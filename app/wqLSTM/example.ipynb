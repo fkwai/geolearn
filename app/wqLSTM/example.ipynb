{
 "cells": [
  {
   "cell_type": "code",
   "execution_count": null,
   "metadata": {},
   "outputs": [],
   "source": [
    "import pandas as pd\n",
    "from hydroDL.data import usgs, gageII, gridMET, ntn, GLASS, transform, dbBasin\n",
    "import numpy as np\n",
    "import matplotlib.pyplot as plt\n",
    "from hydroDL.post import axplot, figplot\n",
    "from hydroDL import kPath, utils\n",
    "import json\n",
    "import os\n",
    "import importlib\n",
    "from hydroDL.master import basinFull\n",
    "from hydroDL.app.waterQuality import WRTDS\n",
    "import matplotlib\n",
    "import matplotlib.gridspec as gridspec\n",
    "\n",
    "\n",
    "dataName='G200'\n",
    "DF = dbBasin.DataFrameBasin(dataName)"
   ]
  },
  {
   "cell_type": "markdown",
   "metadata": {},
   "source": [
    "# DataFrameBasin \n",
    "DataFrameBasin compiled dynamic and static data on basins/sites, including:\n",
    "\n",
    "1. basic information\n",
    "\n",
    "time related: DF.t, DF.sd, DF.ed, DF.freq\n",
    "\n",
    "locations: DF.lat, DF.lon\n",
    "\n",
    "siteNo:DF.siteNoLst\n",
    "\n",
    "2. time series data in [#time, #sites, #variables], including\n",
    "- DF.c - water quality concentration\n",
    "- DF.q - streamflow\n",
    "- DF.f - climate forcings\n",
    "\n",
    "and corresponding variables as DF.varC, DF.varQ, DF.varF\n",
    "\n",
    "3. static data in [#sites, #variables]\n",
    "- DF.g \n",
    "- DF.varG"
   ]
  },
  {
   "cell_type": "code",
   "execution_count": null,
   "metadata": {},
   "outputs": [],
   "source": [
    "## example: load concentration, streamflow and precipitation\n"
   ]
  }
 ],
 "metadata": {
  "language_info": {
   "name": "python"
  }
 },
 "nbformat": 4,
 "nbformat_minor": 2
}
